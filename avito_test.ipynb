{
  "nbformat": 4,
  "nbformat_minor": 0,
  "metadata": {
    "colab": {
      "provenance": [],
      "gpuType": "T4",
      "include_colab_link": true
    },
    "kernelspec": {
      "name": "python3",
      "display_name": "Python 3"
    },
    "language_info": {
      "name": "python"
    },
    "accelerator": "GPU"
  },
  "cells": [
    {
      "cell_type": "markdown",
      "metadata": {
        "id": "view-in-github",
        "colab_type": "text"
      },
      "source": [
        "<a href=\"https://colab.research.google.com/github/whykitsune/missing_spaces/blob/main/avito_test.ipynb\" target=\"_parent\"><img src=\"https://colab.research.google.com/assets/colab-badge.svg\" alt=\"Open In Colab\"/></a>"
      ]
    },
    {
      "cell_type": "markdown",
      "source": [
        " **Задача** — разработать модель или алгоритм, который принимает на вход текст без пробелов и возвращает восстановленный текст с правильными пробелами и позициями, где они были пропущены. Для решения дообучим модель с Hugging Face, а именно *bert-base-multilingual-cased*"
      ],
      "metadata": {
        "id": "uQ8waHVjRu7L"
      }
    },
    {
      "cell_type": "markdown",
      "source": [
        "Почему выбран именно такой подход?\n",
        "\n",
        "Чтобы добиться высокого качества, модель должна быть предобучена и иметь какое-то представление о словах, поэтому был выбран вариант дообучить модель с HF. Обучать в данном случае нужно BERT-подобную модель, потому что модель, например, T5 будет генерировать новую последовательность, что может сильно исказить итоговый вариант строки, нам нужно ли классифицировать, в каких местах нужен пробел.\n",
        "\n",
        "Обучение производилось на T4 GPU в Google Colab"
      ],
      "metadata": {
        "id": "72yV-tWzHc7D"
      }
    },
    {
      "cell_type": "markdown",
      "source": [
        "### Импорт библиотек"
      ],
      "metadata": {
        "id": "lC1s3DQ2OrTy"
      }
    },
    {
      "cell_type": "code",
      "source": [
        "import torch\n",
        "import torch.nn as nn\n",
        "from torch.utils.data import Dataset, DataLoader\n",
        "from transformers import BertTokenizerFast, BertModel, BertConfig\n",
        "import pandas as pd\n",
        "import numpy as np\n",
        "from tqdm import tqdm"
      ],
      "metadata": {
        "id": "BvBhgv55DfKZ"
      },
      "execution_count": 1,
      "outputs": []
    },
    {
      "cell_type": "markdown",
      "source": [
        "Установим тренировочный и тестовый датасеты"
      ],
      "metadata": {
        "id": "iazIb6I6Y8PZ"
      }
    },
    {
      "cell_type": "code",
      "source": [
        "!gdown -q 1FkHimRiYDZjjh7tg5eFnsxnS9ELVVbTM"
      ],
      "metadata": {
        "id": "NUeCZlgeYkfI"
      },
      "execution_count": 2,
      "outputs": []
    },
    {
      "cell_type": "code",
      "source": [
        "!gdown -q 1diH-nG6yMFR5HrM9xj0SXcebW-JYkpL9"
      ],
      "metadata": {
        "id": "PIR72GzqYqFt"
      },
      "execution_count": 3,
      "outputs": []
    },
    {
      "cell_type": "markdown",
      "source": [
        "### Подготовка данных"
      ],
      "metadata": {
        "id": "yQBzrRfxOtp0"
      }
    },
    {
      "cell_type": "markdown",
      "source": [
        "Приведем предоставленный csv-файл к pandas.DataFrame. Поскольку в данных внутри строчек объявлений бывают запятые, обработаем этот случай"
      ],
      "metadata": {
        "id": "HydEtTvrPkGZ"
      }
    },
    {
      "cell_type": "code",
      "source": [
        "data = []\n",
        "with open(\"/content/dataset_1937770_3.txt\", \"r\") as f:\n",
        "    for line in f.readlines():\n",
        "        line_split = line.split(\",\")\n",
        "        data.append([line_split[0], \",\".join(line_split[1:])[:-1]])\n",
        "\n",
        "task_data = pd.DataFrame(data[1:], columns=data[0])\n",
        "task_data.head()\n"
      ],
      "metadata": {
        "colab": {
          "base_uri": "https://localhost:8080/",
          "height": 206
        },
        "id": "bkloLL3psXKj",
        "outputId": "1a6dbbe4-0268-4247-efd0-e5aa3a0486b5"
      },
      "execution_count": 4,
      "outputs": [
        {
          "output_type": "execute_result",
          "data": {
            "text/plain": [
              "  id                 text_no_spaces\n",
              "0  0                куплюайфон14про\n",
              "1  1             ищудомвПодмосковье\n",
              "2  2  сдаюквартирусмебельюитехникой\n",
              "3  3     новыйдивандоставканедорого\n",
              "4  4                отдамдаромкошку"
            ],
            "text/html": [
              "\n",
              "  <div id=\"df-bd4064a6-48cc-4a65-9b9b-1d23f8959caa\" class=\"colab-df-container\">\n",
              "    <div>\n",
              "<style scoped>\n",
              "    .dataframe tbody tr th:only-of-type {\n",
              "        vertical-align: middle;\n",
              "    }\n",
              "\n",
              "    .dataframe tbody tr th {\n",
              "        vertical-align: top;\n",
              "    }\n",
              "\n",
              "    .dataframe thead th {\n",
              "        text-align: right;\n",
              "    }\n",
              "</style>\n",
              "<table border=\"1\" class=\"dataframe\">\n",
              "  <thead>\n",
              "    <tr style=\"text-align: right;\">\n",
              "      <th></th>\n",
              "      <th>id</th>\n",
              "      <th>text_no_spaces</th>\n",
              "    </tr>\n",
              "  </thead>\n",
              "  <tbody>\n",
              "    <tr>\n",
              "      <th>0</th>\n",
              "      <td>0</td>\n",
              "      <td>куплюайфон14про</td>\n",
              "    </tr>\n",
              "    <tr>\n",
              "      <th>1</th>\n",
              "      <td>1</td>\n",
              "      <td>ищудомвПодмосковье</td>\n",
              "    </tr>\n",
              "    <tr>\n",
              "      <th>2</th>\n",
              "      <td>2</td>\n",
              "      <td>сдаюквартирусмебельюитехникой</td>\n",
              "    </tr>\n",
              "    <tr>\n",
              "      <th>3</th>\n",
              "      <td>3</td>\n",
              "      <td>новыйдивандоставканедорого</td>\n",
              "    </tr>\n",
              "    <tr>\n",
              "      <th>4</th>\n",
              "      <td>4</td>\n",
              "      <td>отдамдаромкошку</td>\n",
              "    </tr>\n",
              "  </tbody>\n",
              "</table>\n",
              "</div>\n",
              "    <div class=\"colab-df-buttons\">\n",
              "\n",
              "  <div class=\"colab-df-container\">\n",
              "    <button class=\"colab-df-convert\" onclick=\"convertToInteractive('df-bd4064a6-48cc-4a65-9b9b-1d23f8959caa')\"\n",
              "            title=\"Convert this dataframe to an interactive table.\"\n",
              "            style=\"display:none;\">\n",
              "\n",
              "  <svg xmlns=\"http://www.w3.org/2000/svg\" height=\"24px\" viewBox=\"0 -960 960 960\">\n",
              "    <path d=\"M120-120v-720h720v720H120Zm60-500h600v-160H180v160Zm220 220h160v-160H400v160Zm0 220h160v-160H400v160ZM180-400h160v-160H180v160Zm440 0h160v-160H620v160ZM180-180h160v-160H180v160Zm440 0h160v-160H620v160Z\"/>\n",
              "  </svg>\n",
              "    </button>\n",
              "\n",
              "  <style>\n",
              "    .colab-df-container {\n",
              "      display:flex;\n",
              "      gap: 12px;\n",
              "    }\n",
              "\n",
              "    .colab-df-convert {\n",
              "      background-color: #E8F0FE;\n",
              "      border: none;\n",
              "      border-radius: 50%;\n",
              "      cursor: pointer;\n",
              "      display: none;\n",
              "      fill: #1967D2;\n",
              "      height: 32px;\n",
              "      padding: 0 0 0 0;\n",
              "      width: 32px;\n",
              "    }\n",
              "\n",
              "    .colab-df-convert:hover {\n",
              "      background-color: #E2EBFA;\n",
              "      box-shadow: 0px 1px 2px rgba(60, 64, 67, 0.3), 0px 1px 3px 1px rgba(60, 64, 67, 0.15);\n",
              "      fill: #174EA6;\n",
              "    }\n",
              "\n",
              "    .colab-df-buttons div {\n",
              "      margin-bottom: 4px;\n",
              "    }\n",
              "\n",
              "    [theme=dark] .colab-df-convert {\n",
              "      background-color: #3B4455;\n",
              "      fill: #D2E3FC;\n",
              "    }\n",
              "\n",
              "    [theme=dark] .colab-df-convert:hover {\n",
              "      background-color: #434B5C;\n",
              "      box-shadow: 0px 1px 3px 1px rgba(0, 0, 0, 0.15);\n",
              "      filter: drop-shadow(0px 1px 2px rgba(0, 0, 0, 0.3));\n",
              "      fill: #FFFFFF;\n",
              "    }\n",
              "  </style>\n",
              "\n",
              "    <script>\n",
              "      const buttonEl =\n",
              "        document.querySelector('#df-bd4064a6-48cc-4a65-9b9b-1d23f8959caa button.colab-df-convert');\n",
              "      buttonEl.style.display =\n",
              "        google.colab.kernel.accessAllowed ? 'block' : 'none';\n",
              "\n",
              "      async function convertToInteractive(key) {\n",
              "        const element = document.querySelector('#df-bd4064a6-48cc-4a65-9b9b-1d23f8959caa');\n",
              "        const dataTable =\n",
              "          await google.colab.kernel.invokeFunction('convertToInteractive',\n",
              "                                                    [key], {});\n",
              "        if (!dataTable) return;\n",
              "\n",
              "        const docLinkHtml = 'Like what you see? Visit the ' +\n",
              "          '<a target=\"_blank\" href=https://colab.research.google.com/notebooks/data_table.ipynb>data table notebook</a>'\n",
              "          + ' to learn more about interactive tables.';\n",
              "        element.innerHTML = '';\n",
              "        dataTable['output_type'] = 'display_data';\n",
              "        await google.colab.output.renderOutput(dataTable, element);\n",
              "        const docLink = document.createElement('div');\n",
              "        docLink.innerHTML = docLinkHtml;\n",
              "        element.appendChild(docLink);\n",
              "      }\n",
              "    </script>\n",
              "  </div>\n",
              "\n",
              "\n",
              "    <div id=\"df-88ebc018-fb34-4dad-8630-f100159ebcd6\">\n",
              "      <button class=\"colab-df-quickchart\" onclick=\"quickchart('df-88ebc018-fb34-4dad-8630-f100159ebcd6')\"\n",
              "                title=\"Suggest charts\"\n",
              "                style=\"display:none;\">\n",
              "\n",
              "<svg xmlns=\"http://www.w3.org/2000/svg\" height=\"24px\"viewBox=\"0 0 24 24\"\n",
              "     width=\"24px\">\n",
              "    <g>\n",
              "        <path d=\"M19 3H5c-1.1 0-2 .9-2 2v14c0 1.1.9 2 2 2h14c1.1 0 2-.9 2-2V5c0-1.1-.9-2-2-2zM9 17H7v-7h2v7zm4 0h-2V7h2v10zm4 0h-2v-4h2v4z\"/>\n",
              "    </g>\n",
              "</svg>\n",
              "      </button>\n",
              "\n",
              "<style>\n",
              "  .colab-df-quickchart {\n",
              "      --bg-color: #E8F0FE;\n",
              "      --fill-color: #1967D2;\n",
              "      --hover-bg-color: #E2EBFA;\n",
              "      --hover-fill-color: #174EA6;\n",
              "      --disabled-fill-color: #AAA;\n",
              "      --disabled-bg-color: #DDD;\n",
              "  }\n",
              "\n",
              "  [theme=dark] .colab-df-quickchart {\n",
              "      --bg-color: #3B4455;\n",
              "      --fill-color: #D2E3FC;\n",
              "      --hover-bg-color: #434B5C;\n",
              "      --hover-fill-color: #FFFFFF;\n",
              "      --disabled-bg-color: #3B4455;\n",
              "      --disabled-fill-color: #666;\n",
              "  }\n",
              "\n",
              "  .colab-df-quickchart {\n",
              "    background-color: var(--bg-color);\n",
              "    border: none;\n",
              "    border-radius: 50%;\n",
              "    cursor: pointer;\n",
              "    display: none;\n",
              "    fill: var(--fill-color);\n",
              "    height: 32px;\n",
              "    padding: 0;\n",
              "    width: 32px;\n",
              "  }\n",
              "\n",
              "  .colab-df-quickchart:hover {\n",
              "    background-color: var(--hover-bg-color);\n",
              "    box-shadow: 0 1px 2px rgba(60, 64, 67, 0.3), 0 1px 3px 1px rgba(60, 64, 67, 0.15);\n",
              "    fill: var(--button-hover-fill-color);\n",
              "  }\n",
              "\n",
              "  .colab-df-quickchart-complete:disabled,\n",
              "  .colab-df-quickchart-complete:disabled:hover {\n",
              "    background-color: var(--disabled-bg-color);\n",
              "    fill: var(--disabled-fill-color);\n",
              "    box-shadow: none;\n",
              "  }\n",
              "\n",
              "  .colab-df-spinner {\n",
              "    border: 2px solid var(--fill-color);\n",
              "    border-color: transparent;\n",
              "    border-bottom-color: var(--fill-color);\n",
              "    animation:\n",
              "      spin 1s steps(1) infinite;\n",
              "  }\n",
              "\n",
              "  @keyframes spin {\n",
              "    0% {\n",
              "      border-color: transparent;\n",
              "      border-bottom-color: var(--fill-color);\n",
              "      border-left-color: var(--fill-color);\n",
              "    }\n",
              "    20% {\n",
              "      border-color: transparent;\n",
              "      border-left-color: var(--fill-color);\n",
              "      border-top-color: var(--fill-color);\n",
              "    }\n",
              "    30% {\n",
              "      border-color: transparent;\n",
              "      border-left-color: var(--fill-color);\n",
              "      border-top-color: var(--fill-color);\n",
              "      border-right-color: var(--fill-color);\n",
              "    }\n",
              "    40% {\n",
              "      border-color: transparent;\n",
              "      border-right-color: var(--fill-color);\n",
              "      border-top-color: var(--fill-color);\n",
              "    }\n",
              "    60% {\n",
              "      border-color: transparent;\n",
              "      border-right-color: var(--fill-color);\n",
              "    }\n",
              "    80% {\n",
              "      border-color: transparent;\n",
              "      border-right-color: var(--fill-color);\n",
              "      border-bottom-color: var(--fill-color);\n",
              "    }\n",
              "    90% {\n",
              "      border-color: transparent;\n",
              "      border-bottom-color: var(--fill-color);\n",
              "    }\n",
              "  }\n",
              "</style>\n",
              "\n",
              "      <script>\n",
              "        async function quickchart(key) {\n",
              "          const quickchartButtonEl =\n",
              "            document.querySelector('#' + key + ' button');\n",
              "          quickchartButtonEl.disabled = true;  // To prevent multiple clicks.\n",
              "          quickchartButtonEl.classList.add('colab-df-spinner');\n",
              "          try {\n",
              "            const charts = await google.colab.kernel.invokeFunction(\n",
              "                'suggestCharts', [key], {});\n",
              "          } catch (error) {\n",
              "            console.error('Error during call to suggestCharts:', error);\n",
              "          }\n",
              "          quickchartButtonEl.classList.remove('colab-df-spinner');\n",
              "          quickchartButtonEl.classList.add('colab-df-quickchart-complete');\n",
              "        }\n",
              "        (() => {\n",
              "          let quickchartButtonEl =\n",
              "            document.querySelector('#df-88ebc018-fb34-4dad-8630-f100159ebcd6 button');\n",
              "          quickchartButtonEl.style.display =\n",
              "            google.colab.kernel.accessAllowed ? 'block' : 'none';\n",
              "        })();\n",
              "      </script>\n",
              "    </div>\n",
              "    </div>\n",
              "  </div>\n"
            ],
            "application/vnd.google.colaboratory.intrinsic+json": {
              "type": "dataframe",
              "variable_name": "task_data",
              "summary": "{\n  \"name\": \"task_data\",\n  \"rows\": 1005,\n  \"fields\": [\n    {\n      \"column\": \"id\",\n      \"properties\": {\n        \"dtype\": \"string\",\n        \"num_unique_values\": 1005,\n        \"samples\": [\n          \"926\",\n          \"630\",\n          \"682\"\n        ],\n        \"semantic_type\": \"\",\n        \"description\": \"\"\n      }\n    },\n    {\n      \"column\": \"text_no_spaces\",\n      \"properties\": {\n        \"dtype\": \"string\",\n        \"num_unique_values\": 1005,\n        \"samples\": [\n          \"\\u0412\\u044b\\u0439\\u0434\\u0443\\u043d\\u0430\\u0443\\u043b\\u0438\\u0446\\u0443,\\u0433\\u043b\\u044f\\u043d\\u0443\\u043d\\u0430\\u0441\\u0435\\u043b\\u043e,-\",\n          \"\\u041f\\u043e\\u043a\\u043e\\u0439.\",\n          \"\\u0417\\u043b\\u043e\\u0431\\u043d\\u044b\\u0439\\u0443\\u0440\\u043e\\u0434\\u0435\\u0446\\u043d\\u0438\\u043a\\u0430\\u043a\\u043d\\u0435\\u043e\\u0441\\u0442\\u0430\\u0432\\u0438\\u0442\\u0432\\u043f\\u043e\\u043a\\u043e\\u0435\"\n        ],\n        \"semantic_type\": \"\",\n        \"description\": \"\"\n      }\n    }\n  ]\n}"
            }
          },
          "metadata": {},
          "execution_count": 4
        }
      ]
    },
    {
      "cell_type": "markdown",
      "source": [
        "Получим список строк предоставленного набора данных"
      ],
      "metadata": {
        "id": "-afwCBzKPTjz"
      }
    },
    {
      "cell_type": "code",
      "source": [
        "task_texts = task_data[\"text_no_spaces\"].to_list()"
      ],
      "metadata": {
        "id": "Rc7AOV_pI-mV"
      },
      "execution_count": 5,
      "outputs": []
    },
    {
      "cell_type": "markdown",
      "source": [
        "Возьмем для обучения [датасет объявлений с Авито](https://www.kaggle.com/datasets/vitaliy3000/avito-dataset?resource=download)"
      ],
      "metadata": {
        "id": "qeT1E8WA3t1A"
      }
    },
    {
      "cell_type": "code",
      "source": [
        "!unzip archive.zip -d archive"
      ],
      "metadata": {
        "colab": {
          "base_uri": "https://localhost:8080/"
        },
        "id": "1R7Y2qNUsj1d",
        "outputId": "82e241ea-9123-4c81-d7bb-58602fd4b16a"
      },
      "execution_count": 6,
      "outputs": [
        {
          "output_type": "stream",
          "name": "stdout",
          "text": [
            "Archive:  archive.zip\n",
            "  inflating: archive/category.csv    \n",
            "  inflating: archive/test.csv        \n",
            "  inflating: archive/train.csv       \n"
          ]
        }
      ]
    },
    {
      "cell_type": "code",
      "source": [
        "train_data = pd.read_csv(\"/content/archive/train.csv\", usecols=[\"item_id\", \"title\"]).set_index(\"item_id\")\n",
        "\n",
        "# Половину строк приведем к lowercase'у (чтобы модель видела разные данные: и с регистром, и без)\n",
        "indices = train_data.index.to_numpy()\n",
        "np.random.shuffle(indices)\n",
        "half_idx = indices[:len(indices)//2]\n",
        "train_data.loc[half_idx, \"title\"] = train_data.loc[half_idx, \"title\"].str.lower()"
      ],
      "metadata": {
        "id": "6p2DfPHA0-N3"
      },
      "execution_count": 7,
      "outputs": []
    },
    {
      "cell_type": "code",
      "source": [
        "train_data.head()"
      ],
      "metadata": {
        "colab": {
          "base_uri": "https://localhost:8080/",
          "height": 237
        },
        "id": "jx5kEzGD3nqB",
        "outputId": "286a9f90-b9ae-4ad9-e0c5-7b3a2405a686"
      },
      "execution_count": 8,
      "outputs": [
        {
          "output_type": "execute_result",
          "data": {
            "text/plain": [
              "                                                     title\n",
              "item_id                                                   \n",
              "432777                                             картина\n",
              "428289                         стулья из прессованной кожи\n",
              "35454                                   домашняя мини баня\n",
              "290758   эксклюзивная коллекция книг \"трансаэро\" + подарок\n",
              "398784                                        ноутбук aser"
            ],
            "text/html": [
              "\n",
              "  <div id=\"df-ce380f0e-b041-4ec9-8cba-9047791a99a3\" class=\"colab-df-container\">\n",
              "    <div>\n",
              "<style scoped>\n",
              "    .dataframe tbody tr th:only-of-type {\n",
              "        vertical-align: middle;\n",
              "    }\n",
              "\n",
              "    .dataframe tbody tr th {\n",
              "        vertical-align: top;\n",
              "    }\n",
              "\n",
              "    .dataframe thead th {\n",
              "        text-align: right;\n",
              "    }\n",
              "</style>\n",
              "<table border=\"1\" class=\"dataframe\">\n",
              "  <thead>\n",
              "    <tr style=\"text-align: right;\">\n",
              "      <th></th>\n",
              "      <th>title</th>\n",
              "    </tr>\n",
              "    <tr>\n",
              "      <th>item_id</th>\n",
              "      <th></th>\n",
              "    </tr>\n",
              "  </thead>\n",
              "  <tbody>\n",
              "    <tr>\n",
              "      <th>432777</th>\n",
              "      <td>картина</td>\n",
              "    </tr>\n",
              "    <tr>\n",
              "      <th>428289</th>\n",
              "      <td>стулья из прессованной кожи</td>\n",
              "    </tr>\n",
              "    <tr>\n",
              "      <th>35454</th>\n",
              "      <td>домашняя мини баня</td>\n",
              "    </tr>\n",
              "    <tr>\n",
              "      <th>290758</th>\n",
              "      <td>эксклюзивная коллекция книг \"трансаэро\" + подарок</td>\n",
              "    </tr>\n",
              "    <tr>\n",
              "      <th>398784</th>\n",
              "      <td>ноутбук aser</td>\n",
              "    </tr>\n",
              "  </tbody>\n",
              "</table>\n",
              "</div>\n",
              "    <div class=\"colab-df-buttons\">\n",
              "\n",
              "  <div class=\"colab-df-container\">\n",
              "    <button class=\"colab-df-convert\" onclick=\"convertToInteractive('df-ce380f0e-b041-4ec9-8cba-9047791a99a3')\"\n",
              "            title=\"Convert this dataframe to an interactive table.\"\n",
              "            style=\"display:none;\">\n",
              "\n",
              "  <svg xmlns=\"http://www.w3.org/2000/svg\" height=\"24px\" viewBox=\"0 -960 960 960\">\n",
              "    <path d=\"M120-120v-720h720v720H120Zm60-500h600v-160H180v160Zm220 220h160v-160H400v160Zm0 220h160v-160H400v160ZM180-400h160v-160H180v160Zm440 0h160v-160H620v160ZM180-180h160v-160H180v160Zm440 0h160v-160H620v160Z\"/>\n",
              "  </svg>\n",
              "    </button>\n",
              "\n",
              "  <style>\n",
              "    .colab-df-container {\n",
              "      display:flex;\n",
              "      gap: 12px;\n",
              "    }\n",
              "\n",
              "    .colab-df-convert {\n",
              "      background-color: #E8F0FE;\n",
              "      border: none;\n",
              "      border-radius: 50%;\n",
              "      cursor: pointer;\n",
              "      display: none;\n",
              "      fill: #1967D2;\n",
              "      height: 32px;\n",
              "      padding: 0 0 0 0;\n",
              "      width: 32px;\n",
              "    }\n",
              "\n",
              "    .colab-df-convert:hover {\n",
              "      background-color: #E2EBFA;\n",
              "      box-shadow: 0px 1px 2px rgba(60, 64, 67, 0.3), 0px 1px 3px 1px rgba(60, 64, 67, 0.15);\n",
              "      fill: #174EA6;\n",
              "    }\n",
              "\n",
              "    .colab-df-buttons div {\n",
              "      margin-bottom: 4px;\n",
              "    }\n",
              "\n",
              "    [theme=dark] .colab-df-convert {\n",
              "      background-color: #3B4455;\n",
              "      fill: #D2E3FC;\n",
              "    }\n",
              "\n",
              "    [theme=dark] .colab-df-convert:hover {\n",
              "      background-color: #434B5C;\n",
              "      box-shadow: 0px 1px 3px 1px rgba(0, 0, 0, 0.15);\n",
              "      filter: drop-shadow(0px 1px 2px rgba(0, 0, 0, 0.3));\n",
              "      fill: #FFFFFF;\n",
              "    }\n",
              "  </style>\n",
              "\n",
              "    <script>\n",
              "      const buttonEl =\n",
              "        document.querySelector('#df-ce380f0e-b041-4ec9-8cba-9047791a99a3 button.colab-df-convert');\n",
              "      buttonEl.style.display =\n",
              "        google.colab.kernel.accessAllowed ? 'block' : 'none';\n",
              "\n",
              "      async function convertToInteractive(key) {\n",
              "        const element = document.querySelector('#df-ce380f0e-b041-4ec9-8cba-9047791a99a3');\n",
              "        const dataTable =\n",
              "          await google.colab.kernel.invokeFunction('convertToInteractive',\n",
              "                                                    [key], {});\n",
              "        if (!dataTable) return;\n",
              "\n",
              "        const docLinkHtml = 'Like what you see? Visit the ' +\n",
              "          '<a target=\"_blank\" href=https://colab.research.google.com/notebooks/data_table.ipynb>data table notebook</a>'\n",
              "          + ' to learn more about interactive tables.';\n",
              "        element.innerHTML = '';\n",
              "        dataTable['output_type'] = 'display_data';\n",
              "        await google.colab.output.renderOutput(dataTable, element);\n",
              "        const docLink = document.createElement('div');\n",
              "        docLink.innerHTML = docLinkHtml;\n",
              "        element.appendChild(docLink);\n",
              "      }\n",
              "    </script>\n",
              "  </div>\n",
              "\n",
              "\n",
              "    <div id=\"df-69cd6b7c-ec9a-44ac-b91f-b87aa6f2ff07\">\n",
              "      <button class=\"colab-df-quickchart\" onclick=\"quickchart('df-69cd6b7c-ec9a-44ac-b91f-b87aa6f2ff07')\"\n",
              "                title=\"Suggest charts\"\n",
              "                style=\"display:none;\">\n",
              "\n",
              "<svg xmlns=\"http://www.w3.org/2000/svg\" height=\"24px\"viewBox=\"0 0 24 24\"\n",
              "     width=\"24px\">\n",
              "    <g>\n",
              "        <path d=\"M19 3H5c-1.1 0-2 .9-2 2v14c0 1.1.9 2 2 2h14c1.1 0 2-.9 2-2V5c0-1.1-.9-2-2-2zM9 17H7v-7h2v7zm4 0h-2V7h2v10zm4 0h-2v-4h2v4z\"/>\n",
              "    </g>\n",
              "</svg>\n",
              "      </button>\n",
              "\n",
              "<style>\n",
              "  .colab-df-quickchart {\n",
              "      --bg-color: #E8F0FE;\n",
              "      --fill-color: #1967D2;\n",
              "      --hover-bg-color: #E2EBFA;\n",
              "      --hover-fill-color: #174EA6;\n",
              "      --disabled-fill-color: #AAA;\n",
              "      --disabled-bg-color: #DDD;\n",
              "  }\n",
              "\n",
              "  [theme=dark] .colab-df-quickchart {\n",
              "      --bg-color: #3B4455;\n",
              "      --fill-color: #D2E3FC;\n",
              "      --hover-bg-color: #434B5C;\n",
              "      --hover-fill-color: #FFFFFF;\n",
              "      --disabled-bg-color: #3B4455;\n",
              "      --disabled-fill-color: #666;\n",
              "  }\n",
              "\n",
              "  .colab-df-quickchart {\n",
              "    background-color: var(--bg-color);\n",
              "    border: none;\n",
              "    border-radius: 50%;\n",
              "    cursor: pointer;\n",
              "    display: none;\n",
              "    fill: var(--fill-color);\n",
              "    height: 32px;\n",
              "    padding: 0;\n",
              "    width: 32px;\n",
              "  }\n",
              "\n",
              "  .colab-df-quickchart:hover {\n",
              "    background-color: var(--hover-bg-color);\n",
              "    box-shadow: 0 1px 2px rgba(60, 64, 67, 0.3), 0 1px 3px 1px rgba(60, 64, 67, 0.15);\n",
              "    fill: var(--button-hover-fill-color);\n",
              "  }\n",
              "\n",
              "  .colab-df-quickchart-complete:disabled,\n",
              "  .colab-df-quickchart-complete:disabled:hover {\n",
              "    background-color: var(--disabled-bg-color);\n",
              "    fill: var(--disabled-fill-color);\n",
              "    box-shadow: none;\n",
              "  }\n",
              "\n",
              "  .colab-df-spinner {\n",
              "    border: 2px solid var(--fill-color);\n",
              "    border-color: transparent;\n",
              "    border-bottom-color: var(--fill-color);\n",
              "    animation:\n",
              "      spin 1s steps(1) infinite;\n",
              "  }\n",
              "\n",
              "  @keyframes spin {\n",
              "    0% {\n",
              "      border-color: transparent;\n",
              "      border-bottom-color: var(--fill-color);\n",
              "      border-left-color: var(--fill-color);\n",
              "    }\n",
              "    20% {\n",
              "      border-color: transparent;\n",
              "      border-left-color: var(--fill-color);\n",
              "      border-top-color: var(--fill-color);\n",
              "    }\n",
              "    30% {\n",
              "      border-color: transparent;\n",
              "      border-left-color: var(--fill-color);\n",
              "      border-top-color: var(--fill-color);\n",
              "      border-right-color: var(--fill-color);\n",
              "    }\n",
              "    40% {\n",
              "      border-color: transparent;\n",
              "      border-right-color: var(--fill-color);\n",
              "      border-top-color: var(--fill-color);\n",
              "    }\n",
              "    60% {\n",
              "      border-color: transparent;\n",
              "      border-right-color: var(--fill-color);\n",
              "    }\n",
              "    80% {\n",
              "      border-color: transparent;\n",
              "      border-right-color: var(--fill-color);\n",
              "      border-bottom-color: var(--fill-color);\n",
              "    }\n",
              "    90% {\n",
              "      border-color: transparent;\n",
              "      border-bottom-color: var(--fill-color);\n",
              "    }\n",
              "  }\n",
              "</style>\n",
              "\n",
              "      <script>\n",
              "        async function quickchart(key) {\n",
              "          const quickchartButtonEl =\n",
              "            document.querySelector('#' + key + ' button');\n",
              "          quickchartButtonEl.disabled = true;  // To prevent multiple clicks.\n",
              "          quickchartButtonEl.classList.add('colab-df-spinner');\n",
              "          try {\n",
              "            const charts = await google.colab.kernel.invokeFunction(\n",
              "                'suggestCharts', [key], {});\n",
              "          } catch (error) {\n",
              "            console.error('Error during call to suggestCharts:', error);\n",
              "          }\n",
              "          quickchartButtonEl.classList.remove('colab-df-spinner');\n",
              "          quickchartButtonEl.classList.add('colab-df-quickchart-complete');\n",
              "        }\n",
              "        (() => {\n",
              "          let quickchartButtonEl =\n",
              "            document.querySelector('#df-69cd6b7c-ec9a-44ac-b91f-b87aa6f2ff07 button');\n",
              "          quickchartButtonEl.style.display =\n",
              "            google.colab.kernel.accessAllowed ? 'block' : 'none';\n",
              "        })();\n",
              "      </script>\n",
              "    </div>\n",
              "    </div>\n",
              "  </div>\n"
            ],
            "application/vnd.google.colaboratory.intrinsic+json": {
              "type": "dataframe",
              "variable_name": "train_data"
            }
          },
          "metadata": {},
          "execution_count": 8
        }
      ]
    },
    {
      "cell_type": "markdown",
      "source": [
        "Получим списки строк тренировочных текстов (с пробелами и без)"
      ],
      "metadata": {
        "id": "IDqHaeXLO_vl"
      }
    },
    {
      "cell_type": "code",
      "source": [
        "train_texts_spaced = train_data[\"title\"].to_list()[:70_000]\n",
        "train_texts_no_space = [s.replace(\" \", \"\") for s in train_texts_spaced]"
      ],
      "metadata": {
        "id": "vRPLx35EESRg"
      },
      "execution_count": 21,
      "outputs": []
    },
    {
      "cell_type": "markdown",
      "source": [
        "Генерируем метки: 1 = пробел перед символом"
      ],
      "metadata": {
        "id": "zoLw2qU4Fcmc"
      }
    },
    {
      "cell_type": "code",
      "source": [
        "labels = []\n",
        "for s, ns in zip(train_texts_spaced, train_texts_no_space):\n",
        "    lbl = []\n",
        "    j = 0\n",
        "    for i, ch in enumerate(ns):\n",
        "        if i == 0:\n",
        "            lbl.append(0)  # в начале никогда не ставим\n",
        "        else:\n",
        "            if s[j] == \" \":\n",
        "                lbl.append(1)\n",
        "                j += 1\n",
        "            else:\n",
        "                lbl.append(0)\n",
        "        j += 1\n",
        "    labels.append(lbl)"
      ],
      "metadata": {
        "id": "Upyf1rEiEk0K"
      },
      "execution_count": 22,
      "outputs": []
    },
    {
      "cell_type": "markdown",
      "source": [
        "Определим девайс для обучения"
      ],
      "metadata": {
        "id": "ylPWDbUnO89d"
      }
    },
    {
      "cell_type": "code",
      "source": [
        "DEVICE = torch.device(\"cuda\" if torch.cuda.is_available() else \"cpu\")"
      ],
      "metadata": {
        "id": "CvehI9qWXChN"
      },
      "execution_count": 11,
      "outputs": []
    },
    {
      "cell_type": "markdown",
      "source": [
        "### Функции для обучения"
      ],
      "metadata": {
        "id": "pRMs6bboOxgJ"
      }
    },
    {
      "cell_type": "code",
      "source": [
        "class SpaceDataset(Dataset):\n",
        "    def __init__(self, texts, labels, tokenizer, max_len=128):\n",
        "        self.texts = texts\n",
        "        self.labels = labels\n",
        "        self.tokenizer = tokenizer\n",
        "        self.max_len = max_len\n",
        "\n",
        "    def __len__(self):\n",
        "        return len(self.texts)\n",
        "\n",
        "    def __getitem__(self, idx):\n",
        "        text = self.texts[idx]\n",
        "        label = self.labels[idx]\n",
        "\n",
        "        # Токенизация по символам (разбиваем текст вручную)\n",
        "        chars = list(text)\n",
        "        enc = self.tokenizer(\n",
        "            chars,\n",
        "            is_split_into_words=True,  # важно, чтобы символы шли по отдельности\n",
        "            truncation=True,\n",
        "            max_length=self.max_len,\n",
        "            padding=\"max_length\",\n",
        "            return_tensors=\"pt\"\n",
        "        )\n",
        "\n",
        "        # Метки на каждый символ (0/1 = пробел перед этим символом)\n",
        "        label = label[:self.max_len] + [0] * (self.max_len - len(label))\n",
        "        label = torch.tensor(label)\n",
        "\n",
        "        return {\n",
        "            \"input_ids\": enc[\"input_ids\"].squeeze(),\n",
        "            \"attention_mask\": enc[\"attention_mask\"].squeeze(),\n",
        "            \"labels\": label\n",
        "        }"
      ],
      "metadata": {
        "id": "VoRfvhyKDg0C"
      },
      "execution_count": 23,
      "outputs": []
    },
    {
      "cell_type": "code",
      "source": [
        "class BertForSpaceRestoration(nn.Module):\n",
        "    def __init__(self, model_name=\"bert-base-multilingual-cased\", hidden_dropout_prob=0.1):\n",
        "        super().__init__()\n",
        "        config = BertConfig.from_pretrained(model_name, output_hidden_states=False)\n",
        "        self.bert = BertModel.from_pretrained(model_name, config=config)\n",
        "        self.dropout = nn.Dropout(hidden_dropout_prob)\n",
        "        self.classifier = nn.Linear(config.hidden_size, 2)  # бинарная классификация (0/1)\n",
        "\n",
        "    def forward(self, input_ids, attention_mask, labels=None):\n",
        "        outputs = self.bert(input_ids=input_ids, attention_mask=attention_mask)\n",
        "        x = self.dropout(outputs.last_hidden_state)\n",
        "        logits = self.classifier(x)\n",
        "\n",
        "        loss = None\n",
        "        if labels is not None:\n",
        "            loss_fct = nn.CrossEntropyLoss()\n",
        "            # labels: (batch, seq_len), logits: (batch, seq_len, 2)\n",
        "            loss = loss_fct(logits.view(-1, 2), labels.view(-1))\n",
        "\n",
        "        return {\"loss\": loss, \"logits\": logits}"
      ],
      "metadata": {
        "id": "wfiOXtsdDlx2"
      },
      "execution_count": 24,
      "outputs": []
    },
    {
      "cell_type": "code",
      "source": [
        "def train_model(train_loader, model, epochs=3, lr=5e-5, device=DEVICE):\n",
        "    optimizer = torch.optim.AdamW(model.parameters(), lr=lr)\n",
        "\n",
        "    model.to(device)\n",
        "    model.train()\n",
        "\n",
        "    for epoch in range(epochs):\n",
        "        total_loss = 0\n",
        "        for batch in tqdm(train_loader):\n",
        "            optimizer.zero_grad()\n",
        "            input_ids = batch[\"input_ids\"].to(device)\n",
        "            attention_mask = batch[\"attention_mask\"].to(device)\n",
        "            labels = batch[\"labels\"].to(device)\n",
        "\n",
        "            outputs = model(input_ids, attention_mask, labels)\n",
        "            loss = outputs[\"loss\"]\n",
        "            loss.backward()\n",
        "            optimizer.step()\n",
        "            total_loss += loss.item()\n",
        "        print(f\"Epoch {epoch+1}, Loss = {total_loss/len(train_loader):.4f}\")\n",
        "\n",
        "    return model"
      ],
      "metadata": {
        "id": "EXXithywDzfu"
      },
      "execution_count": 25,
      "outputs": []
    },
    {
      "cell_type": "code",
      "source": [
        "def predict_spaces(model, tokenizer, text, device=DEVICE):\n",
        "    model.eval()\n",
        "    chars = list(text)\n",
        "    enc = tokenizer(chars, is_split_into_words=True, return_tensors=\"pt\", truncation=True, max_length=128, padding=\"max_length\").to(device)\n",
        "    with torch.no_grad():\n",
        "        logits = model(enc[\"input_ids\"], enc[\"attention_mask\"])[\"logits\"]\n",
        "    preds = torch.argmax(logits, dim=-1).squeeze().cpu().numpy()\n",
        "\n",
        "    # Восстановим строку\n",
        "    out = []\n",
        "    for i, ch in enumerate(chars[:128]):  # ограничение длины\n",
        "        if preds[i] == 1:  # пробел перед символом\n",
        "            out.append(\" \")\n",
        "        out.append(ch)\n",
        "    return \"\".join(out)"
      ],
      "metadata": {
        "id": "QynAHZYRD1uq"
      },
      "execution_count": 26,
      "outputs": []
    },
    {
      "cell_type": "markdown",
      "source": [
        "### Обучение"
      ],
      "metadata": {
        "id": "S_9ypUnjO2JA"
      }
    },
    {
      "cell_type": "code",
      "source": [
        "tokenizer = BertTokenizerFast.from_pretrained(\"bert-base-multilingual-cased\")\n",
        "\n",
        "dataset = SpaceDataset(train_texts_no_space, labels, tokenizer)\n",
        "loader = DataLoader(dataset, batch_size=8, shuffle=True)\n",
        "\n",
        "model = BertForSpaceRestoration()"
      ],
      "metadata": {
        "id": "cN5X3dTZFhPk"
      },
      "execution_count": 27,
      "outputs": []
    },
    {
      "cell_type": "code",
      "source": [
        "model = train_model(loader, model, epochs=3, device=DEVICE)\n",
        "\n",
        "test_text = \"книгавхорошемсостоянии\"\n",
        "restored = predict_spaces(model, tokenizer, test_text)\n",
        "print(\"Input:   \", test_text)\n",
        "print(\"Restored:\", restored)"
      ],
      "metadata": {
        "colab": {
          "base_uri": "https://localhost:8080/"
        },
        "id": "Ahlt_FpbFvxl",
        "outputId": "7f42acfb-3ed0-415a-c08d-0853446d4f6c"
      },
      "execution_count": 28,
      "outputs": [
        {
          "output_type": "stream",
          "name": "stderr",
          "text": [
            "100%|██████████| 8750/8750 [33:20<00:00,  4.37it/s]\n"
          ]
        },
        {
          "output_type": "stream",
          "name": "stdout",
          "text": [
            "Epoch 1, Loss = 0.0165\n"
          ]
        },
        {
          "output_type": "stream",
          "name": "stderr",
          "text": [
            "100%|██████████| 8750/8750 [33:24<00:00,  4.37it/s]\n"
          ]
        },
        {
          "output_type": "stream",
          "name": "stdout",
          "text": [
            "Epoch 2, Loss = 0.0110\n"
          ]
        },
        {
          "output_type": "stream",
          "name": "stderr",
          "text": [
            "100%|██████████| 8750/8750 [33:22<00:00,  4.37it/s]"
          ]
        },
        {
          "output_type": "stream",
          "name": "stdout",
          "text": [
            "Epoch 3, Loss = 0.0092\n",
            "Input:    книгавхорошемсостоянии\n",
            "Restored: книга в хорошем состоянии\n"
          ]
        },
        {
          "output_type": "stream",
          "name": "stderr",
          "text": [
            "\n"
          ]
        }
      ]
    },
    {
      "cell_type": "markdown",
      "source": [
        "### Предсказания на тестовых данных"
      ],
      "metadata": {
        "id": "zHmA1SYfW0Br"
      }
    },
    {
      "cell_type": "markdown",
      "source": [
        "Получим список получившийхся строк (после вставления пробела моделью)"
      ],
      "metadata": {
        "id": "EmEw6EiS3iqu"
      }
    },
    {
      "cell_type": "code",
      "source": [
        "res_str = []\n",
        "for txt in task_texts:\n",
        "    res_str.append(predict_spaces(model, tokenizer, txt))"
      ],
      "metadata": {
        "id": "QBw_BIp7GHtx"
      },
      "execution_count": 29,
      "outputs": []
    },
    {
      "cell_type": "markdown",
      "source": [
        "Напишем функцию для подготовки ответа в требуемом формате"
      ],
      "metadata": {
        "id": "QVYMTmv23nPs"
      }
    },
    {
      "cell_type": "code",
      "source": [
        "def find_space_indices(text_with_spaces):\n",
        "    text_without_spaces = text_with_spaces.replace(' ', '')\n",
        "    result = []\n",
        "    offset = 0\n",
        "\n",
        "    for i, char in enumerate(text_with_spaces):\n",
        "        if char == ' ':\n",
        "            result.append(str(i - offset))\n",
        "            offset += 1\n",
        "\n",
        "    return result"
      ],
      "metadata": {
        "id": "2N1vhV8e2yik"
      },
      "execution_count": 30,
      "outputs": []
    },
    {
      "cell_type": "markdown",
      "source": [
        "Получим итоговые предсказания и сформируем csv"
      ],
      "metadata": {
        "id": "b9yf7VMN3rC5"
      }
    },
    {
      "cell_type": "code",
      "source": [
        "pred_positions = []\n",
        "for line in res_str:\n",
        "    cur_res = find_space_indices(line)\n",
        "    pred_positions.append(\"[\" + \", \".join(cur_res) + \"]\")"
      ],
      "metadata": {
        "id": "IFP9ZiU0TmRf"
      },
      "execution_count": 31,
      "outputs": []
    },
    {
      "cell_type": "code",
      "source": [
        "submission = task_data.copy()\n",
        "submission = submission.assign(predicted_positions=pred_positions).drop(columns=[\"text_no_spaces\"])\n",
        "submission.to_csv('submission.csv')"
      ],
      "metadata": {
        "id": "dLXWNRwUVUZ5"
      },
      "execution_count": 32,
      "outputs": []
    },
    {
      "cell_type": "code",
      "source": [],
      "metadata": {
        "id": "w2O-94MigvEm"
      },
      "execution_count": null,
      "outputs": []
    }
  ]
}